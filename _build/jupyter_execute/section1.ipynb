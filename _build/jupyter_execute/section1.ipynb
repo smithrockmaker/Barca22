{
 "cells": [
  {
   "cell_type": "markdown",
   "id": "b5441f24",
   "metadata": {},
   "source": [
    "### St Venant's Principle:\n",
    "\n",
    "As we often do in introductory classes we make a number of simplifying assumptions. In the context of axial forces we are going to assume that the normal stress induced by an axial load (force) is uniformly distributed. If we look at actual distribution of the stresses in a column under axial load we see something like this...\n",
    "\n",
    "<img src=\"https://raw.githubusercontent.com/smithrockmaker/ENGR213/master/images/Saint-Venants-Principle.jpg\" width=\"600\"/>\n",
    "\n",
    "What you can see is that near the place where the force is being applied the normal stress is very non-uniform. As you move into the column/beam the stress rapidly smooths out and becomes uniform. By the time we are a distance b (the width of the column) from the point of application the stress is esssentially uniform. \n",
    "\n",
    "Saint Venant's Principle formally says that as long as we are an 'appropriate' distance from the point of application of the force then all equal external forces produce the same normal stresses in the column/beam.\n",
    "\n",
    "We generally make the assumption that the normal stress is uniform to the end of the member. This is a very good approximation in almost every case."
   ]
  },
  {
   "cell_type": "markdown",
   "id": "09776b3f",
   "metadata": {},
   "source": [
    "```{note}\n",
    "Here is a note!\n",
    "```\n",
    "```{warning}\n",
    "a warning\n",
    "```"
   ]
  },
  {
   "cell_type": "markdown",
   "id": "d9f1f3a3",
   "metadata": {},
   "source": [
    "````{margin}\n",
    "```{note}\n",
    "Here's my note!\n",
    "```\n",
    "````"
   ]
  }
 ],
 "metadata": {
  "kernelspec": {
   "display_name": "Python 3",
   "language": "python",
   "name": "python3"
  },
  "language_info": {
   "codemirror_mode": {
    "name": "ipython",
    "version": 3
   },
   "file_extension": ".py",
   "mimetype": "text/x-python",
   "name": "python",
   "nbconvert_exporter": "python",
   "pygments_lexer": "ipython3",
   "version": "3.8.5"
  }
 },
 "nbformat": 4,
 "nbformat_minor": 5
}