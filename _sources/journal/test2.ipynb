{
 "cells": [
  {
   "cell_type": "markdown",
   "id": "672c1975-6701-4ad5-87a3-40dc3f9306f0",
   "metadata": {},
   "source": [
    "## Test:\n",
    "\n",
    "This is a test of the inclusion of a python notebook in the book"
   ]
  },
  {
   "cell_type": "markdown",
   "id": "5cff12a2-cb45-4d9d-b75c-ee212d1401e2",
   "metadata": {},
   "source": [
    "### This cell is NOT hidden."
   ]
  },
  {
   "cell_type": "markdown",
   "id": "f78d1eab-f515-4d25-81c5-bef8d3d2e208",
   "metadata": {},
   "source": [
    "{\n",
    "    \"tags\": [\n",
    "        \"hide_input\",\n",
    "    ]\n",
    "}\n",
    "\n",
    "This cell attempts to be hidden"
   ]
  },
  {
   "cell_type": "code",
   "execution_count": 1,
   "id": "0316270d-b396-474f-95a7-f7f9b01635ab",
   "metadata": {},
   "outputs": [
    {
     "data": {
      "text/plain": [
       "5"
      ]
     },
     "execution_count": 1,
     "metadata": {},
     "output_type": "execute_result"
    }
   ],
   "source": [
    "left = 2 + 3\n",
    "left"
   ]
  },
  {
   "cell_type": "code",
   "execution_count": null,
   "id": "e61551d5-4acb-4097-a1e9-1dd36ba24715",
   "metadata": {},
   "outputs": [],
   "source": []
  }
 ],
 "metadata": {
  "kernelspec": {
   "display_name": "Python 3 (ipykernel)",
   "language": "python",
   "name": "python3"
  },
  "language_info": {
   "codemirror_mode": {
    "name": "ipython",
    "version": 3
   },
   "file_extension": ".py",
   "mimetype": "text/x-python",
   "name": "python",
   "nbconvert_exporter": "python",
   "pygments_lexer": "ipython3",
   "version": "3.8.12"
  }
 },
 "nbformat": 4,
 "nbformat_minor": 5
}
